{
 "cells": [
  {
   "cell_type": "code",
   "execution_count": 1,
   "metadata": {},
   "outputs": [],
   "source": [
    "import pandas as pd\n",
    "import numpy as np\n",
    "import sqlalchemy as sa\n",
    "import sqlite3\n",
    "from sqlite3 import Error\n",
    "from datetime import date, datetime, timezone, timedelta\n",
    "from dateutil.parser import parse\n",
    "\n",
    "import os\n",
    "import glob\n",
    "import re\n",
    "import csv"
   ]
  },
  {
   "cell_type": "code",
   "execution_count": 2,
   "metadata": {},
   "outputs": [],
   "source": [
    "def create_connection(db_file):\n",
    "    \"\"\" create a database connection to the SQLite database\n",
    "        specified by the db_file\n",
    "    :param db_file: database file\n",
    "    :return: Connection object or None\n",
    "    \"\"\"\n",
    "    conn = None\n",
    "    try:\n",
    "        conn = sqlite3.connect(db_file)\n",
    "    except Error as e:\n",
    "        print(e)\n",
    "\n",
    "    return conn"
   ]
  },
  {
   "cell_type": "code",
   "execution_count": 3,
   "metadata": {},
   "outputs": [],
   "source": [
    "connection = create_connection(\"NYC_YellowCab_data_filtered.sqlite3\")"
   ]
  },
  {
   "cell_type": "code",
   "execution_count": 4,
   "metadata": {},
   "outputs": [
    {
     "data": {
      "text/plain": [
       "<sqlite3.Cursor at 0x18ebba81180>"
      ]
     },
     "execution_count": 4,
     "metadata": {},
     "output_type": "execute_result"
    }
   ],
   "source": [
    "qry_tbl = '''\n",
    "CREATE TABLE IF NOT EXISTS nyc_tripdata (\n",
    "      VendorID INTEGER\n",
    "    , tpep_pickup_datetime TIMESTAMP\n",
    "    , tpep_dropoff_datetime TIMESTAMP\n",
    "    , passenger_count INTEGER\n",
    "    , trip_distance REAL\n",
    "    , RatecodeID INTEGER\n",
    "    , store_and_fwd_flag TEXT\n",
    "    , PULocationID INTEGER\n",
    "    , DOLocationID INTEGER\n",
    "    , payment_type INTEGER\n",
    "    , fare_amount REAL\n",
    "    , extra REAL\n",
    "    , mta_tax REAL\n",
    "    , tip_amount REAL\n",
    "    , tolls_amount REAL\n",
    "    , improvement_surcharge REAL\n",
    "    , total_amount REAL\n",
    "    , congestion_surcharge REAL\n",
    ");\n",
    "'''\n",
    "\n",
    "cursor = connection.cursor()\n",
    "cursor.execute(qry_tbl)"
   ]
  },
  {
   "cell_type": "code",
   "execution_count": 5,
   "metadata": {},
   "outputs": [
    {
     "name": "stdout",
     "output_type": "stream",
     "text": [
      "Processing file 2019_Yellow_Taxi_Trip_Data.csv\n",
      "Inserted 84399019 rows\n"
     ]
    }
   ],
   "source": [
    "for trip_file in glob.glob(r'[0-9][0-9][0-9][0-9]_Yellow_Taxi_Trip_Data.csv'):\n",
    "    print(f\"Processing file {trip_file}\")\n",
    "    fh = open(trip_file, encoding='utf-8')\n",
    "    txt_records = csv.reader(fh)\n",
    "    txt_records.__next__()\n",
    "\n",
    "    sql_insert_records = \"INSERT INTO nyc_tripdata (VendorID,tpep_pickup_datetime,tpep_dropoff_datetime,passenger_count,trip_distance,RatecodeID,store_and_fwd_flag,PULocationID,DOLocationID,payment_type,fare_amount,extra,mta_tax,tip_amount,tolls_amount,improvement_surcharge,total_amount,congestion_surcharge) VALUES(?, ?, ?, ?, ?, ?, ?, ?, ?, ?, ?, ?, ?, ?, ?, ?, ?, ?)\"\n",
    "    cursor = connection.executemany(sql_insert_records, txt_records)\n",
    "    print(f\"Inserted {cursor.rowcount} rows\")\n",
    "    connection.commit()"
   ]
  },
  {
   "cell_type": "code",
   "execution_count": 6,
   "metadata": {},
   "outputs": [
    {
     "data": {
      "text/plain": [
       "<sqlite3.Cursor at 0x18ebba81ab0>"
      ]
     },
     "execution_count": 6,
     "metadata": {},
     "output_type": "execute_result"
    }
   ],
   "source": [
    "qry_tbl2 = '''\n",
    "CREATE TABLE IF NOT EXISTS taxi_zone_lookup (\n",
    "      LocationID INTEGER\n",
    "    , Borough TEXT\n",
    "    , Zone TEXT\n",
    "    , service_zone TEXT\n",
    ");\n",
    "'''\n",
    "\n",
    "cursor = connection.cursor()\n",
    "cursor.execute(qry_tbl2)"
   ]
  },
  {
   "cell_type": "code",
   "execution_count": 7,
   "metadata": {},
   "outputs": [
    {
     "name": "stdout",
     "output_type": "stream",
     "text": [
      "Processing file taxi_zone_lookup.csv\n",
      "Inserted 265 rows\n"
     ]
    }
   ],
   "source": [
    "zone_file = \"taxi_zone_lookup.csv\"\n",
    "\n",
    "fh = open(zone_file, encoding='utf-8')\n",
    "print(f\"Processing file {zone_file}\")\n",
    "txt_records = csv.reader(fh)\n",
    "txt_records.__next__()\n",
    "\n",
    "sql_insert_records = \"INSERT INTO taxi_zone_lookup (LocationID, Borough, Zone, service_zone) VALUES(?, ?, ?, ?)\"\n",
    "cursor = connection.executemany(sql_insert_records, txt_records)\n",
    "print(f\"Inserted {cursor.rowcount} rows\")\n",
    "connection.commit()"
   ]
  },
  {
   "cell_type": "code",
   "execution_count": 8,
   "metadata": {},
   "outputs": [
    {
     "data": {
      "text/plain": [
       "<sqlite3.Cursor at 0x18ebba81500>"
      ]
     },
     "execution_count": 8,
     "metadata": {},
     "output_type": "execute_result"
    }
   ],
   "source": [
    "qry_tbl3 = '''\n",
    "CREATE TABLE nyc_tripdata_filtered (\n",
    "\t  VendorID INTEGER NOT NULL\n",
    "\t, tpep_pickup_datetime TIMESTAMP\n",
    "\t, tpep_dropoff_datetime TIMESTAMP\n",
    "\t, passenger_count INTEGER\n",
    "\t, trip_distance REAL\n",
    "\t, RatecodeID INTEGER\n",
    "\t, store_and_fwd_flag TEXT\n",
    "\t, PULocationID INTEGER\n",
    "\t, PUBorough TEXT\n",
    "\t, PUZone TEXT\n",
    "\t, DOLocationID INTEGER\n",
    "\t, DOBorough TEXT\n",
    "\t, DOZone TEXT\n",
    "\t, payment_type INTEGER\n",
    "\t, fare_amount REAL\n",
    "\t, extra REAL\n",
    "\t, mta_tax REAL\n",
    "\t, tip_amount REAL\n",
    "\t, tolls_amount REAL\n",
    "\t, improvement_surcharge REAL\n",
    "\t, total_amount REAL\n",
    "\t, congestion_surcharge REAL\n",
    ");\n",
    "'''\n",
    "\n",
    "cursor = connection.cursor()\n",
    "cursor.execute(qry_tbl3)"
   ]
  },
  {
   "cell_type": "code",
   "execution_count": 9,
   "metadata": {},
   "outputs": [
    {
     "data": {
      "text/plain": [
       "<sqlite3.Cursor at 0x18ebba6bf10>"
      ]
     },
     "execution_count": 9,
     "metadata": {},
     "output_type": "execute_result"
    }
   ],
   "source": [
    "qry_tbl4 = '''\n",
    "INSERT INTO nyc_tripdata_filtered\n",
    "SELECT\n",
    "\t  trip.VendorID\n",
    "\t, trip.tpep_pickup_datetime\n",
    "\t, trip.tpep_dropoff_datetime\n",
    "\t, trip.passenger_count\n",
    "\t, trip.trip_distance\n",
    "\t, trip.RatecodeID\n",
    "\t, trip.store_and_fwd_flag\n",
    "\t, trip.PULocationID\n",
    "\t, lkpp.Borough AS PUBorough\n",
    "\t, lkpp.Zone AS PUZone\n",
    "\t, trip.DOLocationID\n",
    "\t, lkpd.Borough AS DOBorough\n",
    "\t, lkpd.Zone AS DOZone\n",
    "\t, trip.payment_type\n",
    "\t, trip.fare_amount\n",
    "\t, trip.extra\n",
    "\t, trip.mta_tax\n",
    "\t, trip.tip_amount\n",
    "\t, trip.tolls_amount\n",
    "\t, trip.improvement_surcharge\n",
    "\t, trip.total_amount\n",
    "\t, trip.congestion_surcharge\n",
    "FROM nyc_tripdata AS trip\n",
    "INNER JOIN taxi_zone_lookup AS lkpp\n",
    "\tON lkpp.LocationID = trip.PULocationID\n",
    "INNER JOIN taxi_zone_lookup AS lkpd\n",
    "\tON lkpd.LocationID = trip.DOLocationID\n",
    "WHERE lkpp.Borough IN ('Brooklyn', 'Queens')\n",
    "AND lkpd.Borough IN ('Brooklyn', 'Queens', 'Manhattan', 'Bronx');\n",
    "'''\n",
    "\n",
    "cursor = connection.cursor()\n",
    "cursor.execute(qry_tbl4)"
   ]
  },
  {
   "cell_type": "code",
   "execution_count": 10,
   "metadata": {},
   "outputs": [],
   "source": [
    "connection = create_connection(\"NYC_YellowCab_selected_boroughs.sqlite3\")"
   ]
  },
  {
   "cell_type": "code",
   "execution_count": 11,
   "metadata": {},
   "outputs": [
    {
     "data": {
      "text/plain": [
       "<sqlite3.Cursor at 0x18ebba81f80>"
      ]
     },
     "execution_count": 11,
     "metadata": {},
     "output_type": "execute_result"
    }
   ],
   "source": [
    "qry_tbl5 = \"DROP TABLE IF EXISTS nyc_tripdata;\"\n",
    "cursor = connection.cursor()\n",
    "cursor.execute(qry_tbl5)"
   ]
  },
  {
   "cell_type": "code",
   "execution_count": 12,
   "metadata": {},
   "outputs": [
    {
     "data": {
      "text/plain": [
       "<sqlite3.Cursor at 0x18ebba81730>"
      ]
     },
     "execution_count": 12,
     "metadata": {},
     "output_type": "execute_result"
    }
   ],
   "source": [
    "qry_tbl6 = \"DROP TABLE IF EXISTS taxi_zone_lookup;\"\n",
    "cursor = connection.cursor()\n",
    "cursor.execute(qry_tbl6)"
   ]
  },
  {
   "cell_type": "code",
   "execution_count": 13,
   "metadata": {},
   "outputs": [
    {
     "data": {
      "text/plain": [
       "<sqlite3.Cursor at 0x18ebba99a40>"
      ]
     },
     "execution_count": 13,
     "metadata": {},
     "output_type": "execute_result"
    }
   ],
   "source": [
    "qry_tbl7 = \"ALTER TABLE nyc_tripdata_filtered RENAME TO nyc_tripdata;\"\n",
    "cursor = connection.cursor()\n",
    "cursor.execute(qry_tbl7)"
   ]
  },
  {
   "cell_type": "code",
   "execution_count": 14,
   "metadata": {},
   "outputs": [],
   "source": [
    "connection.commit()"
   ]
  },
  {
   "cell_type": "code",
   "execution_count": 15,
   "metadata": {},
   "outputs": [],
   "source": [
    "connection.close()"
   ]
  },
  {
   "cell_type": "code",
   "execution_count": 16,
   "metadata": {},
   "outputs": [],
   "source": [
    "os.rename(\"NYC_YellowCab_data_filtered.sqlite3\", \"yellow_cab_selected_boroughs.sqlite3\")"
   ]
  }
 ],
 "metadata": {
  "kernelspec": {
   "display_name": "base",
   "language": "python",
   "name": "python3"
  },
  "language_info": {
   "codemirror_mode": {
    "name": "ipython",
    "version": 3
   },
   "file_extension": ".py",
   "mimetype": "text/x-python",
   "name": "python",
   "nbconvert_exporter": "python",
   "pygments_lexer": "ipython3",
   "version": "3.7.17"
  }
 },
 "nbformat": 4,
 "nbformat_minor": 2
}
