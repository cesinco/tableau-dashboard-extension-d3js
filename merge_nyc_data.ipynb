{
 "cells": [
  {
   "cell_type": "code",
   "execution_count": 1,
   "metadata": {},
   "outputs": [],
   "source": [
    "import pandas as pd\n",
    "import numpy as np\n",
    "import sqlalchemy as sa\n",
    "import sqlite3\n",
    "from sqlite3 import Error\n",
    "from datetime import date, datetime, timezone, timedelta\n",
    "from dateutil.parser import parse\n",
    "\n",
    "import os\n",
    "import glob\n",
    "import re\n",
    "import csv"
   ]
  },
  {
   "cell_type": "code",
   "execution_count": 2,
   "metadata": {},
   "outputs": [],
   "source": [
    "def create_connection(db_file):\n",
    "    \"\"\" create a database connection to the SQLite database\n",
    "        specified by the db_file\n",
    "    :param db_file: database file\n",
    "    :return: Connection object or None\n",
    "    \"\"\"\n",
    "    conn = None\n",
    "    try:\n",
    "        conn = sqlite3.connect(db_file)\n",
    "    except Error as e:\n",
    "        print(e)\n",
    "\n",
    "    return conn"
   ]
  },
  {
   "cell_type": "code",
   "execution_count": 3,
   "metadata": {},
   "outputs": [],
   "source": [
    "connection = create_connection(\"NYC_YellowCab_data.sqlite3\")"
   ]
  },
  {
   "cell_type": "code",
   "execution_count": 4,
   "metadata": {},
   "outputs": [
    {
     "data": {
      "text/plain": [
       "<sqlite3.Cursor at 0x29a0bf820a0>"
      ]
     },
     "execution_count": 4,
     "metadata": {},
     "output_type": "execute_result"
    }
   ],
   "source": [
    "qry_tbl = '''\n",
    "CREATE TABLE IF NOT EXISTS nyc_tripdata (\n",
    "      VendorID INTEGER\n",
    "    , tpep_pickup_datetime TIMESTAMP\n",
    "    , tpep_dropoff_datetime TIMESTAMP\n",
    "    , passenger_count INTEGER\n",
    "    , trip_distance REAL\n",
    "    , RatecodeID INTEGER\n",
    "    , store_and_fwd_flag TEXT\n",
    "    , PULocationID INTEGER\n",
    "    , DOLocationID INTEGER\n",
    "    , payment_type INTEGER\n",
    "    , fare_amount REAL\n",
    "    , extra REAL\n",
    "    , mta_tax REAL\n",
    "    , tip_amount REAL\n",
    "    , tolls_amount REAL\n",
    "    , improvement_surcharge REAL\n",
    "    , total_amount REAL\n",
    "    , congestion_surcharge REAL\n",
    ");\n",
    "'''\n",
    "\n",
    "cursor = connection.cursor()\n",
    "cursor.execute(qry_tbl)"
   ]
  },
  {
   "cell_type": "code",
   "execution_count": 12,
   "metadata": {},
   "outputs": [
    {
     "name": "stdout",
     "output_type": "stream",
     "text": [
      "Processing file 2019_Yellow_Taxi_Trip_Data.csv\n",
      "Inserted 84399019 rows\n",
      "Processing file 2020_Yellow_Taxi_Trip_Data.csv\n",
      "Inserted 24648499 rows\n"
     ]
    }
   ],
   "source": [
    "for trip_file in glob.glob(r'[0-9][0-9][0-9][0-9]_Yellow_Taxi_Trip_Data.csv'):\n",
    "    print(f\"Processing file {trip_file}\")\n",
    "    fh = open(trip_file, encoding='utf-8')\n",
    "    txt_records = csv.reader(fh)\n",
    "    txt_records.__next__()\n",
    "\n",
    "    sql_insert_records = \"INSERT INTO nyc_tripdata (VendorID,tpep_pickup_datetime,tpep_dropoff_datetime,passenger_count,trip_distance,RatecodeID,store_and_fwd_flag,PULocationID,DOLocationID,payment_type,fare_amount,extra,mta_tax,tip_amount,tolls_amount,improvement_surcharge,total_amount,congestion_surcharge) VALUES(?, ?, ?, ?, ?, ?, ?, ?, ?, ?, ?, ?, ?, ?, ?, ?, ?, ?)\"\n",
    "    cursor = connection.executemany(sql_insert_records, txt_records)\n",
    "    print(f\"Inserted {cursor.rowcount} rows\")\n",
    "    connection.commit()"
   ]
  },
  {
   "cell_type": "code",
   "execution_count": 13,
   "metadata": {},
   "outputs": [
    {
     "data": {
      "text/plain": [
       "<sqlite3.Cursor at 0x29a0bf828f0>"
      ]
     },
     "execution_count": 13,
     "metadata": {},
     "output_type": "execute_result"
    }
   ],
   "source": [
    "qry_tbl2 = '''\n",
    "CREATE TABLE IF NOT EXISTS taxi_zone_lookup (\n",
    "      LocationID INTEGER\n",
    "    , Borough TEXT\n",
    "    , Zone TEXT\n",
    "    , service_zone TEXT\n",
    ");\n",
    "'''\n",
    "\n",
    "cursor = connection.cursor()\n",
    "cursor.execute(qry_tbl2)"
   ]
  },
  {
   "cell_type": "code",
   "execution_count": 14,
   "metadata": {},
   "outputs": [
    {
     "name": "stdout",
     "output_type": "stream",
     "text": [
      "Processing file taxi_zone_lookup.csv\n",
      "Inserted 265 rows\n"
     ]
    }
   ],
   "source": [
    "zone_file = \"taxi_zone_lookup.csv\"\n",
    "\n",
    "fh = open(zone_file, encoding='utf-8')\n",
    "print(f\"Processing file {zone_file}\")\n",
    "txt_records = csv.reader(fh)\n",
    "txt_records.__next__()\n",
    "\n",
    "sql_insert_records = \"INSERT INTO taxi_zone_lookup (LocationID, Borough, Zone, service_zone) VALUES(?, ?, ?, ?)\"\n",
    "cursor = connection.executemany(sql_insert_records, txt_records)\n",
    "print(f\"Inserted {cursor.rowcount} rows\")\n",
    "connection.commit()"
   ]
  },
  {
   "cell_type": "code",
   "execution_count": 15,
   "metadata": {},
   "outputs": [],
   "source": [
    "connection.close()"
   ]
  }
 ],
 "metadata": {
  "kernelspec": {
   "display_name": "base",
   "language": "python",
   "name": "python3"
  },
  "language_info": {
   "codemirror_mode": {
    "name": "ipython",
    "version": 3
   },
   "file_extension": ".py",
   "mimetype": "text/x-python",
   "name": "python",
   "nbconvert_exporter": "python",
   "pygments_lexer": "ipython3",
   "version": "3.9.12"
  }
 },
 "nbformat": 4,
 "nbformat_minor": 2
}
